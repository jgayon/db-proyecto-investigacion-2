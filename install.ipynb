{
 "cells": [
  {
   "cell_type": "code",
   "execution_count": null,
   "id": "35d1f04c",
   "metadata": {},
   "outputs": [
    {
     "name": "stdout",
     "output_type": "stream",
     "text": [
      "Collecting customtkinterNote: you may need to restart the kernel to use updated packages.\n",
      "\n",
      "  Downloading customtkinter-5.2.2-py3-none-any.whl.metadata (677 bytes)\n",
      "Collecting darkdetect (from customtkinter)\n",
      "  Downloading darkdetect-0.8.0-py3-none-any.whl.metadata (3.6 kB)\n",
      "Requirement already satisfied: packaging in d:\\anaconda\\lib\\site-packages (from customtkinter) (24.1)\n",
      "Downloading customtkinter-5.2.2-py3-none-any.whl (296 kB)\n",
      "Downloading darkdetect-0.8.0-py3-none-any.whl (9.0 kB)\n",
      "Installing collected packages: darkdetect, customtkinter\n",
      "Successfully installed customtkinter-5.2.2 darkdetect-0.8.0\n"
     ]
    }
   ],
   "source": [
    "pip install customtkinter\n",
    "pip install flask\n",
    "pip install pymongo\n",
    "pip install dnspython"
   ]
  }
 ],
 "metadata": {
  "kernelspec": {
   "display_name": "base",
   "language": "python",
   "name": "python3"
  },
  "language_info": {
   "codemirror_mode": {
    "name": "ipython",
    "version": 3
   },
   "file_extension": ".py",
   "mimetype": "text/x-python",
   "name": "python",
   "nbconvert_exporter": "python",
   "pygments_lexer": "ipython3",
   "version": "3.12.7"
  }
 },
 "nbformat": 4,
 "nbformat_minor": 5
}
